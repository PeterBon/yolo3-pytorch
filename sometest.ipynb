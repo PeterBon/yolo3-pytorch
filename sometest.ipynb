{
 "cells": [
  {
   "cell_type": "code",
   "execution_count": 1,
   "metadata": {},
   "outputs": [],
   "source": [
    "import cv2\n",
    "import os\n",
    "import numpy as np\n",
    "import json\n",
    "from utils.augment import DataAugmentForObjectDetection"
   ]
  },
  {
   "cell_type": "code",
   "execution_count": 2,
   "metadata": {},
   "outputs": [],
   "source": [
    "path = '../datasets/tt100k/test_new'\n",
    "image_path = os.path.join(path,'3236.jpg')\n",
    "annotations_path = os.path.join(path,'annotations.json')\n",
    "image_id = '3236'"
   ]
  },
  {
   "cell_type": "code",
   "execution_count": 3,
   "metadata": {},
   "outputs": [
    {
     "name": "stdout",
     "output_type": "stream",
     "text": [
      "[[132 480 167 519  71]\n",
      " [170 481 202 515  91]\n",
      " [204 481 240 516  22]\n",
      " [242 481 278 517 108]\n",
      " [687 523 712 556  71]]\n",
      "(5, 5)\n",
      "[[132, 480, 167, 519], [170, 481, 202, 515], [204, 481, 240, 516], [242, 481, 278, 517], [687, 523, 712, 556]]\n",
      "5\n"
     ]
    }
   ],
   "source": [
    "annotations = json.loads(open(annotations_path).read())\n",
    "types = annotations['types']\n",
    "labels = []\n",
    "for obj in annotations['imgs'][image_id]['objects']:\n",
    "    category = obj['category']\n",
    "    category_id = types.index(category)\n",
    "    xmin = int(obj['bbox']['xmin'])\n",
    "    ymin = int(obj['bbox']['ymin'])\n",
    "    xmax = int(obj['bbox']['xmax'])\n",
    "    ymax = int(obj['bbox']['ymax'])\n",
    "    label = [xmin,ymin,xmax,ymax,category_id]\n",
    "    labels.append(label)\n",
    "labels = np.array(labels)\n",
    "print(labels)\n",
    "print(labels.shape)\n",
    "bboxes = labels[:,:4].tolist()\n",
    "print(bboxes)\n",
    "print(len(bboxes))"
   ]
  },
  {
   "cell_type": "code",
   "execution_count": 4,
   "metadata": {},
   "outputs": [
    {
     "name": "stdout",
     "output_type": "stream",
     "text": [
      "(416, 416, 3)\n",
      "5\n",
      "[[128, 136, 138, 147], [139, 137, 148, 146], [149, 137, 159, 147], [159, 137, 170, 147], [286, 149, 293, 158]]\n"
     ]
    }
   ],
   "source": [
    "img = cv2.imread(image_path)\n",
    "aug = DataAugmentForObjectDetection()\n",
    "img_new,bboxes_new = aug.letterbox(img,bboxes)\n",
    "print(img_new.shape)\n",
    "print(len(bboxes_new))\n",
    "print(bboxes_new)"
   ]
  },
  {
   "cell_type": "code",
   "execution_count": 6,
   "metadata": {},
   "outputs": [],
   "source": [
    "for bbox in bboxes_new:\n",
    "    x_min = bbox[0]\n",
    "    y_min = bbox[1]\n",
    "    x_max = bbox[2]\n",
    "    y_max = bbox[3]\n",
    "    draw = cv2.rectangle(img_new,(int(x_min), int(y_min)), (int(x_max), int(y_max)), (0, 255, 0), 1)"
   ]
  },
  {
   "cell_type": "code",
   "execution_count": null,
   "metadata": {},
   "outputs": [],
   "source": [
    "cv2.namedWindow('pic', 0)  # 1表示原图\n",
    "cv2.moveWindow('pic', 0, 0)\n",
    "cv2.resizeWindow('pic', 800, 800)  # 可视化的图片大小\n",
    "cv2.imshow('pic', draw)\n",
    "cv2.waitKey(0)\n",
    "cv2.destroyAllWindows()"
   ]
  },
  {
   "cell_type": "code",
   "execution_count": null,
   "metadata": {},
   "outputs": [],
   "source": []
  },
  {
   "cell_type": "code",
   "execution_count": null,
   "metadata": {},
   "outputs": [],
   "source": []
  }
 ],
 "metadata": {
  "kernelspec": {
   "display_name": "Python 3",
   "language": "python",
   "name": "python3"
  },
  "language_info": {
   "codemirror_mode": {
    "name": "ipython",
    "version": 3
   },
   "file_extension": ".py",
   "mimetype": "text/x-python",
   "name": "python",
   "nbconvert_exporter": "python",
   "pygments_lexer": "ipython3",
   "version": "3.6.12"
  }
 },
 "nbformat": 4,
 "nbformat_minor": 4
}
